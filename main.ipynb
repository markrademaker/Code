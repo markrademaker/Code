{
 "cells": [
  {
   "cell_type": "markdown",
   "metadata": {},
   "source": [
    "## Install"
   ]
  },
  {
   "cell_type": "code",
   "execution_count": 8,
   "metadata": {},
   "outputs": [
    {
     "name": "stdout",
     "output_type": "stream",
     "text": [
      "Requirement already satisfied: moviepy in /usr/local/anaconda3/lib/python3.9/site-packages (1.0.3)\n",
      "Requirement already satisfied: requests<3.0,>=2.8.1 in /usr/local/anaconda3/lib/python3.9/site-packages (from moviepy) (2.28.1)\n",
      "Requirement already satisfied: proglog<=1.0.0 in /usr/local/anaconda3/lib/python3.9/site-packages (from moviepy) (0.1.10)\n",
      "Requirement already satisfied: imageio-ffmpeg>=0.2.0 in /usr/local/anaconda3/lib/python3.9/site-packages (from moviepy) (0.4.9)\n",
      "Requirement already satisfied: imageio<3.0,>=2.5 in /usr/local/anaconda3/lib/python3.9/site-packages (from moviepy) (2.19.3)\n",
      "Requirement already satisfied: numpy>=1.17.3 in /usr/local/anaconda3/lib/python3.9/site-packages (from moviepy) (1.26.2)\n",
      "Requirement already satisfied: decorator<5.0,>=4.0.2 in /usr/local/anaconda3/lib/python3.9/site-packages (from moviepy) (4.4.2)\n",
      "Requirement already satisfied: tqdm<5.0,>=4.11.2 in /usr/local/anaconda3/lib/python3.9/site-packages (from moviepy) (4.64.1)\n",
      "Requirement already satisfied: pillow>=8.3.2 in /usr/local/anaconda3/lib/python3.9/site-packages (from imageio<3.0,>=2.5->moviepy) (9.2.0)\n",
      "Requirement already satisfied: setuptools in /usr/local/anaconda3/lib/python3.9/site-packages (from imageio-ffmpeg>=0.2.0->moviepy) (63.4.1)\n",
      "Requirement already satisfied: idna<4,>=2.5 in /usr/local/anaconda3/lib/python3.9/site-packages (from requests<3.0,>=2.8.1->moviepy) (3.3)\n",
      "Requirement already satisfied: charset-normalizer<3,>=2 in /usr/local/anaconda3/lib/python3.9/site-packages (from requests<3.0,>=2.8.1->moviepy) (2.0.4)\n",
      "Requirement already satisfied: certifi>=2017.4.17 in /usr/local/anaconda3/lib/python3.9/site-packages (from requests<3.0,>=2.8.1->moviepy) (2022.9.24)\n",
      "Requirement already satisfied: urllib3<1.27,>=1.21.1 in /usr/local/anaconda3/lib/python3.9/site-packages (from requests<3.0,>=2.8.1->moviepy) (1.26.11)\n",
      "Requirement already satisfied: transformers in /usr/local/anaconda3/lib/python3.9/site-packages (4.36.1)\n",
      "Requirement already satisfied: torchaudio in /usr/local/anaconda3/lib/python3.9/site-packages (2.1.2)\n",
      "Requirement already satisfied: tokenizers<0.19,>=0.14 in /usr/local/anaconda3/lib/python3.9/site-packages (from transformers) (0.15.0)\n",
      "Requirement already satisfied: requests in /usr/local/anaconda3/lib/python3.9/site-packages (from transformers) (2.28.1)\n",
      "Requirement already satisfied: numpy>=1.17 in /usr/local/anaconda3/lib/python3.9/site-packages (from transformers) (1.26.2)\n",
      "Requirement already satisfied: packaging>=20.0 in /usr/local/anaconda3/lib/python3.9/site-packages (from transformers) (23.2)\n",
      "Requirement already satisfied: regex!=2019.12.17 in /usr/local/anaconda3/lib/python3.9/site-packages (from transformers) (2022.7.9)\n",
      "Requirement already satisfied: safetensors>=0.3.1 in /usr/local/anaconda3/lib/python3.9/site-packages (from transformers) (0.4.1)\n",
      "Requirement already satisfied: pyyaml>=5.1 in /usr/local/anaconda3/lib/python3.9/site-packages (from transformers) (6.0)\n",
      "Requirement already satisfied: filelock in /usr/local/anaconda3/lib/python3.9/site-packages (from transformers) (3.6.0)\n",
      "Requirement already satisfied: huggingface-hub<1.0,>=0.19.3 in /usr/local/anaconda3/lib/python3.9/site-packages (from transformers) (0.19.4)\n",
      "Requirement already satisfied: tqdm>=4.27 in /usr/local/anaconda3/lib/python3.9/site-packages (from transformers) (4.64.1)\n",
      "Requirement already satisfied: torch==2.1.2 in /usr/local/anaconda3/lib/python3.9/site-packages (from torchaudio) (2.1.2)\n",
      "Requirement already satisfied: fsspec in /usr/local/anaconda3/lib/python3.9/site-packages (from torch==2.1.2->torchaudio) (2023.12.2)\n",
      "Requirement already satisfied: typing-extensions in /usr/local/anaconda3/lib/python3.9/site-packages (from torch==2.1.2->torchaudio) (4.3.0)\n",
      "Requirement already satisfied: sympy in /usr/local/anaconda3/lib/python3.9/site-packages (from torch==2.1.2->torchaudio) (1.10.1)\n",
      "Requirement already satisfied: networkx in /usr/local/anaconda3/lib/python3.9/site-packages (from torch==2.1.2->torchaudio) (2.8.4)\n",
      "Requirement already satisfied: jinja2 in /usr/local/anaconda3/lib/python3.9/site-packages (from torch==2.1.2->torchaudio) (2.11.3)\n",
      "Requirement already satisfied: certifi>=2017.4.17 in /usr/local/anaconda3/lib/python3.9/site-packages (from requests->transformers) (2022.9.24)\n",
      "Requirement already satisfied: idna<4,>=2.5 in /usr/local/anaconda3/lib/python3.9/site-packages (from requests->transformers) (3.3)\n",
      "Requirement already satisfied: urllib3<1.27,>=1.21.1 in /usr/local/anaconda3/lib/python3.9/site-packages (from requests->transformers) (1.26.11)\n",
      "Requirement already satisfied: charset-normalizer<3,>=2 in /usr/local/anaconda3/lib/python3.9/site-packages (from requests->transformers) (2.0.4)\n",
      "Requirement already satisfied: MarkupSafe>=0.23 in /usr/local/anaconda3/lib/python3.9/site-packages (from jinja2->torch==2.1.2->torchaudio) (2.0.1)\n",
      "Requirement already satisfied: mpmath>=0.19 in /usr/local/anaconda3/lib/python3.9/site-packages (from sympy->torch==2.1.2->torchaudio) (1.2.1)\n",
      "Requirement already satisfied: spleeter in /usr/local/anaconda3/lib/python3.9/site-packages (2.4.0)\n",
      "Requirement already satisfied: typer<0.4.0,>=0.3.2 in /usr/local/anaconda3/lib/python3.9/site-packages (from spleeter) (0.3.2)\n",
      "Requirement already satisfied: norbert<0.3.0,>=0.2.1 in /usr/local/anaconda3/lib/python3.9/site-packages (from spleeter) (0.2.1)\n",
      "Requirement already satisfied: tensorflow<2.10.0,>=2.5.0 in /usr/local/anaconda3/lib/python3.9/site-packages (from spleeter) (2.9.3)\n",
      "Requirement already satisfied: ffmpeg-python<0.3.0,>=0.2.0 in /usr/local/anaconda3/lib/python3.9/site-packages (from spleeter) (0.2.0)\n",
      "Requirement already satisfied: httpx[http2]<0.20.0,>=0.19.0 in /usr/local/anaconda3/lib/python3.9/site-packages (from spleeter) (0.19.0)\n",
      "Requirement already satisfied: pandas<2.0.0,>=1.3.0 in /usr/local/anaconda3/lib/python3.9/site-packages (from spleeter) (1.4.4)\n",
      "Requirement already satisfied: future in /usr/local/anaconda3/lib/python3.9/site-packages (from ffmpeg-python<0.3.0,>=0.2.0->spleeter) (0.18.2)\n",
      "Requirement already satisfied: charset-normalizer in /usr/local/anaconda3/lib/python3.9/site-packages (from httpx[http2]<0.20.0,>=0.19.0->spleeter) (2.0.4)\n",
      "Requirement already satisfied: certifi in /usr/local/anaconda3/lib/python3.9/site-packages (from httpx[http2]<0.20.0,>=0.19.0->spleeter) (2022.9.24)\n",
      "Requirement already satisfied: httpcore<0.14.0,>=0.13.3 in /usr/local/anaconda3/lib/python3.9/site-packages (from httpx[http2]<0.20.0,>=0.19.0->spleeter) (0.13.7)\n",
      "Requirement already satisfied: sniffio in /usr/local/anaconda3/lib/python3.9/site-packages (from httpx[http2]<0.20.0,>=0.19.0->spleeter) (1.2.0)\n",
      "Requirement already satisfied: rfc3986[idna2008]<2,>=1.3 in /usr/local/anaconda3/lib/python3.9/site-packages (from httpx[http2]<0.20.0,>=0.19.0->spleeter) (1.5.0)\n",
      "Requirement already satisfied: h2<5,>=3 in /usr/local/anaconda3/lib/python3.9/site-packages (from httpx[http2]<0.20.0,>=0.19.0->spleeter) (4.1.0)\n",
      "Requirement already satisfied: scipy in /usr/local/anaconda3/lib/python3.9/site-packages (from norbert<0.3.0,>=0.2.1->spleeter) (1.11.4)\n",
      "Requirement already satisfied: python-dateutil>=2.8.1 in /usr/local/anaconda3/lib/python3.9/site-packages (from pandas<2.0.0,>=1.3.0->spleeter) (2.8.2)\n",
      "Requirement already satisfied: pytz>=2020.1 in /usr/local/anaconda3/lib/python3.9/site-packages (from pandas<2.0.0,>=1.3.0->spleeter) (2022.1)\n",
      "Requirement already satisfied: numpy>=1.18.5 in /usr/local/anaconda3/lib/python3.9/site-packages (from pandas<2.0.0,>=1.3.0->spleeter) (1.26.2)\n",
      "Requirement already satisfied: google-pasta>=0.1.1 in /usr/local/anaconda3/lib/python3.9/site-packages (from tensorflow<2.10.0,>=2.5.0->spleeter) (0.2.0)\n",
      "Requirement already satisfied: tensorflow-estimator<2.10.0,>=2.9.0rc0 in /usr/local/anaconda3/lib/python3.9/site-packages (from tensorflow<2.10.0,>=2.5.0->spleeter) (2.9.0)\n",
      "Requirement already satisfied: libclang>=13.0.0 in /usr/local/anaconda3/lib/python3.9/site-packages (from tensorflow<2.10.0,>=2.5.0->spleeter) (14.0.6)\n",
      "Requirement already satisfied: wrapt>=1.11.0 in /usr/local/anaconda3/lib/python3.9/site-packages (from tensorflow<2.10.0,>=2.5.0->spleeter) (1.14.1)\n",
      "Requirement already satisfied: tensorflow-io-gcs-filesystem>=0.23.1 in /usr/local/anaconda3/lib/python3.9/site-packages (from tensorflow<2.10.0,>=2.5.0->spleeter) (0.27.0)\n",
      "Requirement already satisfied: grpcio<2.0,>=1.24.3 in /usr/local/anaconda3/lib/python3.9/site-packages (from tensorflow<2.10.0,>=2.5.0->spleeter) (1.49.1)\n",
      "Requirement already satisfied: opt-einsum>=2.3.2 in /usr/local/anaconda3/lib/python3.9/site-packages (from tensorflow<2.10.0,>=2.5.0->spleeter) (3.3.0)\n",
      "Requirement already satisfied: tensorboard<2.10,>=2.9 in /usr/local/anaconda3/lib/python3.9/site-packages (from tensorflow<2.10.0,>=2.5.0->spleeter) (2.9.1)\n",
      "Requirement already satisfied: astunparse>=1.6.0 in /usr/local/anaconda3/lib/python3.9/site-packages (from tensorflow<2.10.0,>=2.5.0->spleeter) (1.6.3)\n",
      "Requirement already satisfied: packaging in /usr/local/anaconda3/lib/python3.9/site-packages (from tensorflow<2.10.0,>=2.5.0->spleeter) (23.2)\n",
      "Requirement already satisfied: termcolor>=1.1.0 in /usr/local/anaconda3/lib/python3.9/site-packages (from tensorflow<2.10.0,>=2.5.0->spleeter) (2.0.1)\n",
      "Requirement already satisfied: keras-preprocessing>=1.1.1 in /usr/local/anaconda3/lib/python3.9/site-packages (from tensorflow<2.10.0,>=2.5.0->spleeter) (1.1.2)\n",
      "Requirement already satisfied: protobuf<3.20,>=3.9.2 in /usr/local/anaconda3/lib/python3.9/site-packages (from tensorflow<2.10.0,>=2.5.0->spleeter) (3.19.6)\n",
      "Requirement already satisfied: absl-py>=1.0.0 in /usr/local/anaconda3/lib/python3.9/site-packages (from tensorflow<2.10.0,>=2.5.0->spleeter) (1.3.0)\n",
      "Requirement already satisfied: six>=1.12.0 in /usr/local/anaconda3/lib/python3.9/site-packages (from tensorflow<2.10.0,>=2.5.0->spleeter) (1.16.0)\n",
      "Requirement already satisfied: gast<=0.4.0,>=0.2.1 in /usr/local/anaconda3/lib/python3.9/site-packages (from tensorflow<2.10.0,>=2.5.0->spleeter) (0.4.0)\n",
      "Requirement already satisfied: flatbuffers<2,>=1.12 in /usr/local/anaconda3/lib/python3.9/site-packages (from tensorflow<2.10.0,>=2.5.0->spleeter) (1.12)\n",
      "Requirement already satisfied: keras<2.10.0,>=2.9.0rc0 in /usr/local/anaconda3/lib/python3.9/site-packages (from tensorflow<2.10.0,>=2.5.0->spleeter) (2.9.0)\n",
      "Requirement already satisfied: setuptools in /usr/local/anaconda3/lib/python3.9/site-packages (from tensorflow<2.10.0,>=2.5.0->spleeter) (63.4.1)\n",
      "Requirement already satisfied: typing-extensions>=3.6.6 in /usr/local/anaconda3/lib/python3.9/site-packages (from tensorflow<2.10.0,>=2.5.0->spleeter) (4.3.0)\n",
      "Requirement already satisfied: h5py>=2.9.0 in /usr/local/anaconda3/lib/python3.9/site-packages (from tensorflow<2.10.0,>=2.5.0->spleeter) (3.7.0)\n",
      "Requirement already satisfied: click<7.2.0,>=7.1.1 in /usr/local/anaconda3/lib/python3.9/site-packages (from typer<0.4.0,>=0.3.2->spleeter) (7.1.2)\n",
      "Requirement already satisfied: wheel<1.0,>=0.23.0 in /usr/local/anaconda3/lib/python3.9/site-packages (from astunparse>=1.6.0->tensorflow<2.10.0,>=2.5.0->spleeter) (0.37.1)\n",
      "Requirement already satisfied: hpack<5,>=4.0 in /usr/local/anaconda3/lib/python3.9/site-packages (from h2<5,>=3->httpx[http2]<0.20.0,>=0.19.0->spleeter) (4.0.0)\n",
      "Requirement already satisfied: hyperframe<7,>=6.0 in /usr/local/anaconda3/lib/python3.9/site-packages (from h2<5,>=3->httpx[http2]<0.20.0,>=0.19.0->spleeter) (6.0.1)\n",
      "Requirement already satisfied: h11<0.13,>=0.11 in /usr/local/anaconda3/lib/python3.9/site-packages (from httpcore<0.14.0,>=0.13.3->httpx[http2]<0.20.0,>=0.19.0->spleeter) (0.12.0)\n",
      "Requirement already satisfied: anyio==3.* in /usr/local/anaconda3/lib/python3.9/site-packages (from httpcore<0.14.0,>=0.13.3->httpx[http2]<0.20.0,>=0.19.0->spleeter) (3.5.0)\n",
      "Requirement already satisfied: idna>=2.8 in /usr/local/anaconda3/lib/python3.9/site-packages (from anyio==3.*->httpcore<0.14.0,>=0.13.3->httpx[http2]<0.20.0,>=0.19.0->spleeter) (3.3)\n",
      "Requirement already satisfied: google-auth<3,>=1.6.3 in /usr/local/anaconda3/lib/python3.9/site-packages (from tensorboard<2.10,>=2.9->tensorflow<2.10.0,>=2.5.0->spleeter) (2.13.0)\n",
      "Requirement already satisfied: tensorboard-data-server<0.7.0,>=0.6.0 in /usr/local/anaconda3/lib/python3.9/site-packages (from tensorboard<2.10,>=2.9->tensorflow<2.10.0,>=2.5.0->spleeter) (0.6.1)\n",
      "Requirement already satisfied: google-auth-oauthlib<0.5,>=0.4.1 in /usr/local/anaconda3/lib/python3.9/site-packages (from tensorboard<2.10,>=2.9->tensorflow<2.10.0,>=2.5.0->spleeter) (0.4.6)\n",
      "Requirement already satisfied: tensorboard-plugin-wit>=1.6.0 in /usr/local/anaconda3/lib/python3.9/site-packages (from tensorboard<2.10,>=2.9->tensorflow<2.10.0,>=2.5.0->spleeter) (1.8.1)\n",
      "Requirement already satisfied: requests<3,>=2.21.0 in /usr/local/anaconda3/lib/python3.9/site-packages (from tensorboard<2.10,>=2.9->tensorflow<2.10.0,>=2.5.0->spleeter) (2.28.1)\n",
      "Requirement already satisfied: werkzeug>=1.0.1 in /usr/local/anaconda3/lib/python3.9/site-packages (from tensorboard<2.10,>=2.9->tensorflow<2.10.0,>=2.5.0->spleeter) (2.0.3)\n",
      "Requirement already satisfied: markdown>=2.6.8 in /usr/local/anaconda3/lib/python3.9/site-packages (from tensorboard<2.10,>=2.9->tensorflow<2.10.0,>=2.5.0->spleeter) (3.3.4)\n",
      "Requirement already satisfied: pyasn1-modules>=0.2.1 in /usr/local/anaconda3/lib/python3.9/site-packages (from google-auth<3,>=1.6.3->tensorboard<2.10,>=2.9->tensorflow<2.10.0,>=2.5.0->spleeter) (0.2.8)\n",
      "Requirement already satisfied: rsa<5,>=3.1.4 in /usr/local/anaconda3/lib/python3.9/site-packages (from google-auth<3,>=1.6.3->tensorboard<2.10,>=2.9->tensorflow<2.10.0,>=2.5.0->spleeter) (4.9)\n",
      "Requirement already satisfied: cachetools<6.0,>=2.0.0 in /usr/local/anaconda3/lib/python3.9/site-packages (from google-auth<3,>=1.6.3->tensorboard<2.10,>=2.9->tensorflow<2.10.0,>=2.5.0->spleeter) (5.2.0)\n",
      "Requirement already satisfied: requests-oauthlib>=0.7.0 in /usr/local/anaconda3/lib/python3.9/site-packages (from google-auth-oauthlib<0.5,>=0.4.1->tensorboard<2.10,>=2.9->tensorflow<2.10.0,>=2.5.0->spleeter) (1.3.1)\n",
      "Requirement already satisfied: urllib3<1.27,>=1.21.1 in /usr/local/anaconda3/lib/python3.9/site-packages (from requests<3,>=2.21.0->tensorboard<2.10,>=2.9->tensorflow<2.10.0,>=2.5.0->spleeter) (1.26.11)\n",
      "Requirement already satisfied: pyasn1<0.5.0,>=0.4.6 in /usr/local/anaconda3/lib/python3.9/site-packages (from pyasn1-modules>=0.2.1->google-auth<3,>=1.6.3->tensorboard<2.10,>=2.9->tensorflow<2.10.0,>=2.5.0->spleeter) (0.4.8)\n",
      "Requirement already satisfied: oauthlib>=3.0.0 in /usr/local/anaconda3/lib/python3.9/site-packages (from requests-oauthlib>=0.7.0->google-auth-oauthlib<0.5,>=0.4.1->tensorboard<2.10,>=2.9->tensorflow<2.10.0,>=2.5.0->spleeter) (3.2.2)\n",
      "Requirement already satisfied: torchaudio in /usr/local/anaconda3/lib/python3.9/site-packages (2.1.2)\n",
      "Requirement already satisfied: torch==2.1.2 in /usr/local/anaconda3/lib/python3.9/site-packages (from torchaudio) (2.1.2)\n",
      "Requirement already satisfied: networkx in /usr/local/anaconda3/lib/python3.9/site-packages (from torch==2.1.2->torchaudio) (2.8.4)\n",
      "Requirement already satisfied: fsspec in /usr/local/anaconda3/lib/python3.9/site-packages (from torch==2.1.2->torchaudio) (2023.12.2)\n",
      "Requirement already satisfied: typing-extensions in /usr/local/anaconda3/lib/python3.9/site-packages (from torch==2.1.2->torchaudio) (4.3.0)\n",
      "Requirement already satisfied: sympy in /usr/local/anaconda3/lib/python3.9/site-packages (from torch==2.1.2->torchaudio) (1.10.1)\n",
      "Requirement already satisfied: filelock in /usr/local/anaconda3/lib/python3.9/site-packages (from torch==2.1.2->torchaudio) (3.6.0)\n",
      "Requirement already satisfied: jinja2 in /usr/local/anaconda3/lib/python3.9/site-packages (from torch==2.1.2->torchaudio) (2.11.3)\n",
      "Requirement already satisfied: MarkupSafe>=0.23 in /usr/local/anaconda3/lib/python3.9/site-packages (from jinja2->torch==2.1.2->torchaudio) (2.0.1)\n",
      "Requirement already satisfied: mpmath>=0.19 in /usr/local/anaconda3/lib/python3.9/site-packages (from sympy->torch==2.1.2->torchaudio) (1.2.1)\n"
     ]
    },
    {
     "ename": "ModuleNotFoundError",
     "evalue": "No module named 'torchaudio'",
     "output_type": "error",
     "traceback": [
      "\u001b[0;31m---------------------------------------------------------------------------\u001b[0m",
      "\u001b[0;31mModuleNotFoundError\u001b[0m                       Traceback (most recent call last)",
      "\u001b[1;32m/Users/markrademaker/Downloads/Work/Scriptie/Code/main.ipynb Cell 2\u001b[0m line \u001b[0;36m<cell line: 6>\u001b[0;34m()\u001b[0m\n\u001b[1;32m      <a href='vscode-notebook-cell:/Users/markrademaker/Downloads/Work/Scriptie/Code/main.ipynb#W1sZmlsZQ%3D%3D?line=3'>4</a>\u001b[0m get_ipython()\u001b[39m.\u001b[39msystem(\u001b[39m'\u001b[39m\u001b[39mpip install torchaudio\u001b[39m\u001b[39m'\u001b[39m)\n\u001b[1;32m      <a href='vscode-notebook-cell:/Users/markrademaker/Downloads/Work/Scriptie/Code/main.ipynb#W1sZmlsZQ%3D%3D?line=4'>5</a>\u001b[0m \u001b[39mfrom\u001b[39;00m \u001b[39mvideo_loader\u001b[39;00m \u001b[39mimport\u001b[39;00m VideoLoader\n\u001b[0;32m----> <a href='vscode-notebook-cell:/Users/markrademaker/Downloads/Work/Scriptie/Code/main.ipynb#W1sZmlsZQ%3D%3D?line=5'>6</a>\u001b[0m \u001b[39mfrom\u001b[39;00m \u001b[39mmedia_embedder\u001b[39;00m \u001b[39mimport\u001b[39;00m MediaEmbedder\n",
      "File \u001b[0;32m~/Downloads/Work/Scriptie/Code/media_embedder.py:3\u001b[0m, in \u001b[0;36m<module>\u001b[0;34m\u001b[0m\n\u001b[1;32m      1\u001b[0m \u001b[39mimport\u001b[39;00m \u001b[39mtorch\u001b[39;00m\n\u001b[1;32m      2\u001b[0m \u001b[39mfrom\u001b[39;00m \u001b[39mtransformers\u001b[39;00m \u001b[39mimport\u001b[39;00m Wav2Vec2Processor, Wav2Vec2Model\n\u001b[0;32m----> 3\u001b[0m \u001b[39mfrom\u001b[39;00m \u001b[39mtorchaudio\u001b[39;00m\u001b[39m.\u001b[39;00m\u001b[39mtransforms\u001b[39;00m \u001b[39mimport\u001b[39;00m Resample\n\u001b[1;32m      5\u001b[0m \u001b[39mclass\u001b[39;00m \u001b[39mMediaEmbedder\u001b[39;00m:\n\u001b[1;32m      6\u001b[0m     \u001b[39mdef\u001b[39;00m \u001b[39m__init__\u001b[39m(\u001b[39mself\u001b[39m):\n\u001b[1;32m      7\u001b[0m         \u001b[39m# Initialize processors and models for audio and video\u001b[39;00m\n",
      "\u001b[0;31mModuleNotFoundError\u001b[0m: No module named 'torchaudio'"
     ]
    }
   ],
   "source": [
    "!pip install moviepy\n",
    "!pip install transformers torchaudio\n",
    "!pip install spleeter\n",
    "!pip install torchaudio\n",
    "from video_loader import VideoLoader\n",
    "from media_embedder import MediaEmbedder"
   ]
  },
  {
   "cell_type": "code",
   "execution_count": 2,
   "metadata": {},
   "outputs": [
    {
     "name": "stdout",
     "output_type": "stream",
     "text": [
      "Video loaded successfully: /Users/markrademaker/Downloads/Work/Scriptie/Data/Survivor_full.mov\n",
      "MoviePy - Writing audio in /Users/markrademaker/Downloads/Work/Scriptie/Data/Survivor_full_audio.mp3\n"
     ]
    },
    {
     "name": "stderr",
     "output_type": "stream",
     "text": [
      "                                                                        \r"
     ]
    },
    {
     "name": "stdout",
     "output_type": "stream",
     "text": [
      "MoviePy - Done.\n",
      "Audio extracted: /Users/markrademaker/Downloads/Work/Scriptie/Data/Survivor_full_audio.mp3\n",
      "Moviepy - Building video /Users/markrademaker/Downloads/Work/Scriptie/Data/Survivor_full_no_audio.mp4.\n",
      "Moviepy - Writing video /Users/markrademaker/Downloads/Work/Scriptie/Data/Survivor_full_no_audio.mp4\n",
      "\n"
     ]
    },
    {
     "name": "stderr",
     "output_type": "stream",
     "text": [
      "                                                                    \r"
     ]
    },
    {
     "name": "stdout",
     "output_type": "stream",
     "text": [
      "Moviepy - Done !\n",
      "Moviepy - video ready /Users/markrademaker/Downloads/Work/Scriptie/Data/Survivor_full_no_audio.mp4\n",
      "Video without audio created: /Users/markrademaker/Downloads/Work/Scriptie/Data/Survivor_full_no_audio.mp4\n"
     ]
    }
   ],
   "source": [
    "video_loader = VideoLoader(\"/Users/markrademaker/Downloads/Work/Scriptie/Data/Survivor_full.mov\")\n",
    "video_loader.load_video()\n",
    "video_loader.split_audio_video()"
   ]
  },
  {
   "cell_type": "code",
   "execution_count": 3,
   "metadata": {},
   "outputs": [
    {
     "ename": "NameError",
     "evalue": "name 'separate_audio_sources' is not defined",
     "output_type": "error",
     "traceback": [
      "\u001b[0;31m---------------------------------------------------------------------------\u001b[0m",
      "\u001b[0;31mNameError\u001b[0m                                 Traceback (most recent call last)",
      "\u001b[1;32m/Users/markrademaker/Downloads/Work/Scriptie/Code/main.ipynb Cell 4\u001b[0m line \u001b[0;36m<cell line: 1>\u001b[0;34m()\u001b[0m\n\u001b[0;32m----> <a href='vscode-notebook-cell:/Users/markrademaker/Downloads/Work/Scriptie/Code/main.ipynb#W4sZmlsZQ%3D%3D?line=0'>1</a>\u001b[0m separate_audio_sources(\u001b[39m'\u001b[39m\u001b[39m/Users/markrademaker/Downloads/Work/Scriptie/Data/Survivor_full_audio.mp3\u001b[39m\u001b[39m'\u001b[39m, \u001b[39m'\u001b[39m\u001b[39m/Users/markrademaker/Downloads/Work/Scriptie/Data/Survivor_full_audio_source.mp3\u001b[39m\u001b[39m'\u001b[39m)\n",
      "\u001b[0;31mNameError\u001b[0m: name 'separate_audio_sources' is not defined"
     ]
    }
   ],
   "source": [
    "separate_audio_sources('/Users/markrademaker/Downloads/Work/Scriptie/Data/Survivor_full_audio.mp3', '/Users/markrademaker/Downloads/Work/Scriptie/Data/Survivor_full_audio_source.mp3')"
   ]
  },
  {
   "cell_type": "code",
   "execution_count": null,
   "metadata": {},
   "outputs": [],
   "source": [
    "media_embedder = MediaEmbedder()\n",
    "audio_embeddings = media_embedder.embed_audio(\"/Users/markrademaker/Downloads/Work/Scriptie/Data/Survivor_full_audio.mp3\")\n",
    "video_embeddings = media_embedder.embed_video(\"/Users/markrademaker/Downloads/Work/Scriptie/Data/Survivor_full_no_audio.mp4\")"
   ]
  }
 ],
 "metadata": {
  "kernelspec": {
   "display_name": "Python 3",
   "language": "python",
   "name": "python3"
  },
  "language_info": {
   "codemirror_mode": {
    "name": "ipython",
    "version": 3
   },
   "file_extension": ".py",
   "mimetype": "text/x-python",
   "name": "python",
   "nbconvert_exporter": "python",
   "pygments_lexer": "ipython3",
   "version": "3.9.2"
  }
 },
 "nbformat": 4,
 "nbformat_minor": 2
}
